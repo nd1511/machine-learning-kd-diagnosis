{
 "cells": [
  {
   "cell_type": "markdown",
   "metadata": {},
   "source": [
    "# Ensemble Classifiers: Expanded Featureset"
   ]
  },
  {
   "cell_type": "code",
   "execution_count": 64,
   "metadata": {},
   "outputs": [],
   "source": [
    "import sys\n",
    "sys.path.append('../') # Make parent folder visible\n",
    "import numpy as np\n",
    "\n",
    "from sklearn.model_selection import StratifiedKFold\n",
    "from sklearn.model_selection import GridSearchCV\n",
    "from sklearn.metrics import make_scorer, fbeta_score\n",
    "\n",
    "from sklearn import svm, linear_model, neighbors, ensemble, naive_bayes, \\\n",
    "    neural_network, tree, gaussian_process, discriminant_analysis\n",
    "\n",
    "from preprocess import load_data"
   ]
  },
  {
   "cell_type": "code",
   "execution_count": 60,
   "metadata": {
    "collapsed": true
   },
   "outputs": [],
   "source": [
    "BETA = 5 # 0-1 favors precision, >1 (up to infinity) favors recall\n",
    "# CLASS_WEIGHT = \"balanced\""
   ]
  },
  {
   "cell_type": "code",
   "execution_count": 3,
   "metadata": {
    "collapsed": true
   },
   "outputs": [],
   "source": [
    "x, y, ids = load_data.load_expanded(one_hot=False, fill_mode='mean')"
   ]
  },
  {
   "cell_type": "code",
   "execution_count": 4,
   "metadata": {
    "collapsed": true
   },
   "outputs": [],
   "source": [
    "# Explain TN, FP, FN, TP\n",
    "def compute_stats(y_pred, y_test):\n",
    "    if y_test.ndim > 1:\n",
    "        y_results = np.column_stack((y_test[:, 1], y_pred))\n",
    "    else:\n",
    "        y_results = np.column_stack((y_test, y_pred))\n",
    "    y_arr = np.dtype((np.void, y_results.dtype.itemsize * y_results.shape[1]))\n",
    "    contigview = np.ascontiguousarray(y_results).view(y_arr)\n",
    "    return np.unique(contigview, return_counts=True)[1].tolist()\n",
    "\n",
    "# Explain TN, FP, FN, TP\n",
    "def explain_stats(stats):\n",
    "    fc_total = stats[0] + stats[1]\n",
    "    kd_total = stats[2] + stats[3]\n",
    "    fc_as_fc = (stats[0] / fc_total) * 100\n",
    "    print(\"FC Classified as FC: \" + str(stats[0]) + \", (\" + str(fc_as_fc) + \" %)\")\n",
    "    fc_as_kd = (stats[1] / fc_total) * 100\n",
    "    print(\"FC Classified as KD: \" + str(stats[1]) + \", (\" + str(fc_as_kd) + \" %)\")\n",
    "    kd_as_fc = (stats[2] / kd_total) * 100\n",
    "    print(\"KD Classified as FC: \" + str(stats[2]) + \", (\" + str(kd_as_fc) + \" %)\")\n",
    "    kd_as_kd = (stats[3] / kd_total) * 100\n",
    "    print(\"KD Classified as KD: \" + str(stats[3]) + \", (\" + str(kd_as_kd) + \" %)\")\n",
    "\n",
    "# Train and evaluate model, print out results\n",
    "def test_model(model, x, y):\n",
    "    stats_arr = []\n",
    "    kf = StratifiedKFold(n_splits=5, shuffle=True, random_state=90007)\n",
    "    for train_idx, test_idx in kf.split(x, y):\n",
    "        x_train, x_test, y_train, y_test = x[train_idx], x[test_idx], y[train_idx], y[test_idx]\n",
    "        y_pred = model.train_test(x_train, x_test, y_train, y_test)\n",
    "        stats_arr.append(compute_stats(y_pred, y_test))\n",
    "    explain_stats(np.mean(stats_arr, axis=0))"
   ]
  },
  {
   "cell_type": "markdown",
   "metadata": {},
   "source": [
    "## Single SVM Model"
   ]
  },
  {
   "cell_type": "code",
   "execution_count": 40,
   "metadata": {
    "collapsed": true
   },
   "outputs": [],
   "source": [
    "# ScikitModel wrapper class\n",
    "class ScikitModel:\n",
    "    def __init__(self, skmodel, params, verbose=False):\n",
    "        self.skmodel = skmodel\n",
    "        self.cv_scorer = make_scorer(fbeta_score, beta=BETA) # optimize for fbeta_score\n",
    "        self.paramsearch = GridSearchCV(self.skmodel, params, cv=5, scoring=self.cv_scorer, verbose=True)\n",
    "        self.verbose = verbose\n",
    "\n",
    "    def train_test(self, x_train, x_test, y_train, y_test):\n",
    "        params = self.skmodel.get_params(deep=True)\n",
    "        # print(params)\n",
    "        self.paramsearch.fit(x_train, y_train)\n",
    "        if self.verbose == True:\n",
    "            print(\"Best params: \", self.paramsearch.best_params_)\n",
    "        y_pred = self.paramsearch.predict(x_test)\n",
    "        return y_pred"
   ]
  },
  {
   "cell_type": "code",
   "execution_count": 32,
   "metadata": {},
   "outputs": [
    {
     "name": "stdout",
     "output_type": "stream",
     "text": [
      "Fitting 5 folds for each of 12 candidates, totalling 60 fits\n"
     ]
    },
    {
     "name": "stderr",
     "output_type": "stream",
     "text": [
      "[Parallel(n_jobs=1)]: Done  60 out of  60 | elapsed:    7.0s finished\n"
     ]
    },
    {
     "name": "stdout",
     "output_type": "stream",
     "text": [
      "Best params:  {'C': 0.1, 'kernel': 'linear'}\n",
      "Fitting 5 folds for each of 12 candidates, totalling 60 fits\n"
     ]
    },
    {
     "name": "stderr",
     "output_type": "stream",
     "text": [
      "[Parallel(n_jobs=1)]: Done  60 out of  60 | elapsed:    8.7s finished\n"
     ]
    },
    {
     "name": "stdout",
     "output_type": "stream",
     "text": [
      "Best params:  {'C': 1.0, 'kernel': 'linear'}\n",
      "Fitting 5 folds for each of 12 candidates, totalling 60 fits\n"
     ]
    },
    {
     "name": "stderr",
     "output_type": "stream",
     "text": [
      "[Parallel(n_jobs=1)]: Done  60 out of  60 | elapsed:    5.6s finished\n"
     ]
    },
    {
     "name": "stdout",
     "output_type": "stream",
     "text": [
      "Best params:  {'C': 1.0, 'kernel': 'poly'}\n",
      "Fitting 5 folds for each of 12 candidates, totalling 60 fits\n"
     ]
    },
    {
     "name": "stderr",
     "output_type": "stream",
     "text": [
      "[Parallel(n_jobs=1)]: Done  60 out of  60 | elapsed:    6.7s finished\n"
     ]
    },
    {
     "name": "stdout",
     "output_type": "stream",
     "text": [
      "Best params:  {'C': 1.0, 'kernel': 'rbf'}\n",
      "Fitting 5 folds for each of 12 candidates, totalling 60 fits\n",
      "Best params:  {'C': 10, 'kernel': 'linear'}\n",
      "FC Classified as FC: 112.0, (90.0321543408 %)\n",
      "FC Classified as KD: 12.4, (9.96784565916 %)\n",
      "KD Classified as FC: 8.0, (4.87804878049 %)\n",
      "KD Classified as KD: 156.0, (95.1219512195 %)\n"
     ]
    },
    {
     "name": "stderr",
     "output_type": "stream",
     "text": [
      "[Parallel(n_jobs=1)]: Done  60 out of  60 | elapsed:   10.4s finished\n"
     ]
    }
   ],
   "source": [
    "# Grid search params\n",
    "params = {\n",
    "    'C': [.1, 1.0, 10, 100],\n",
    "    #     'C': np.logspace(-3, 3, 3),\n",
    "#     'gamma': np.logspace(-3, 3, 10),\n",
    "    'kernel': ['linear', 'rbf', 'poly']\n",
    "}\n",
    "\n",
    "# Test model! 5-fold CV with hyperparameter optimization\n",
    "clf = ScikitModel(svm.SVC(), params, verbose=1)\n",
    "test_model(clf, x, y)"
   ]
  },
  {
   "cell_type": "markdown",
   "metadata": {},
   "source": [
    "## Test out Various Models"
   ]
  },
  {
   "cell_type": "code",
   "execution_count": 68,
   "metadata": {},
   "outputs": [
    {
     "name": "stdout",
     "output_type": "stream",
     "text": [
      "Fitting 5 folds for each of 1 candidates, totalling 5 fits\n"
     ]
    },
    {
     "name": "stderr",
     "output_type": "stream",
     "text": [
      "[Parallel(n_jobs=1)]: Done   5 out of   5 | elapsed:    0.2s finished\n"
     ]
    },
    {
     "name": "stdout",
     "output_type": "stream",
     "text": [
      "Best params:  {}\n",
      "Fitting 5 folds for each of 1 candidates, totalling 5 fits\n"
     ]
    },
    {
     "name": "stderr",
     "output_type": "stream",
     "text": [
      "[Parallel(n_jobs=1)]: Done   5 out of   5 | elapsed:    0.2s finished\n"
     ]
    },
    {
     "name": "stdout",
     "output_type": "stream",
     "text": [
      "Best params:  {}\n",
      "Fitting 5 folds for each of 1 candidates, totalling 5 fits\n"
     ]
    },
    {
     "name": "stderr",
     "output_type": "stream",
     "text": [
      "[Parallel(n_jobs=1)]: Done   5 out of   5 | elapsed:    0.2s finished\n"
     ]
    },
    {
     "name": "stdout",
     "output_type": "stream",
     "text": [
      "Best params:  {}\n",
      "Fitting 5 folds for each of 1 candidates, totalling 5 fits\n"
     ]
    },
    {
     "name": "stderr",
     "output_type": "stream",
     "text": [
      "[Parallel(n_jobs=1)]: Done   5 out of   5 | elapsed:    0.2s finished\n"
     ]
    },
    {
     "name": "stdout",
     "output_type": "stream",
     "text": [
      "Best params:  {}\n",
      "Fitting 5 folds for each of 1 candidates, totalling 5 fits\n",
      "Best params:  {}\n",
      "FC Classified as FC: 109.6, (88.1028938907 %)\n",
      "FC Classified as KD: 14.8, (11.8971061093 %)\n",
      "KD Classified as FC: 6.8, (4.14634146341 %)\n",
      "KD Classified as KD: 157.2, (95.8536585366 %)\n"
     ]
    },
    {
     "name": "stderr",
     "output_type": "stream",
     "text": [
      "[Parallel(n_jobs=1)]: Done   5 out of   5 | elapsed:    0.2s finished\n"
     ]
    }
   ],
   "source": [
    "# tweak this\n",
    "test_model(ScikitModel(neighbors.KNeighborsClassifier(n_neighbors=7), params={}, verbose=1), x, y)"
   ]
  },
  {
   "cell_type": "markdown",
   "metadata": {},
   "source": [
    "## KNN-SVM-LogReg Ensemble"
   ]
  },
  {
   "cell_type": "code",
   "execution_count": 61,
   "metadata": {
    "collapsed": true
   },
   "outputs": [],
   "source": [
    "# 3-way voting ensemble: KNN, SVM, LR\n",
    "class SKEnsembleModel:\n",
    "    def __init__(self, knn_params, svm_params, logreg_params, verbose=False):\n",
    "        self.knn = neighbors.KNeighborsClassifier()\n",
    "        self.svm = svm.SVC(probability=True)\n",
    "        self.logreg = linear_model.LogisticRegression()\n",
    "        self.cv_scorer = make_scorer(fbeta_score, beta=BETA) # optimize for fbeta_score\n",
    "        self.knn_paramsearch = GridSearchCV(self.knn, knn_params, cv=5, scoring=self.cv_scorer, verbose=verbose)\n",
    "        self.svm_paramsearch = GridSearchCV(self.svm, svm_params, cv=5, scoring=self.cv_scorer, verbose=verbose)\n",
    "        self.logreg_paramsearch = GridSearchCV(self.logreg, logreg_params, cv=5, scoring=self.cv_scorer, verbose=verbose)\n",
    "        self.verbose = verbose\n",
    "\n",
    "    def train_test(self, x_train, x_test, y_train, y_test):\n",
    "#         params = self.skmodel.get_params(deep=True)\n",
    "        # print(params)\n",
    "        self.knn_paramsearch.fit(x_train, y_train)\n",
    "        self.svm_paramsearch.fit(x_train, y_train)\n",
    "        self.logreg_paramsearch.fit(x_train, y_train)\n",
    "        if self.verbose == True:\n",
    "            print(\"Best KNN params: \", self.knn_paramsearch.best_params_)\n",
    "            print(\"Best SVM params: \", self.svm_paramsearch.best_params_)\n",
    "            print(\"Best LogReg params: \", self.logreg_paramsearch.best_params_)\n",
    "        knn_pred = self.knn_paramsearch.predict_proba(x_test)[:,1]\n",
    "        svm_pred = self.svm_paramsearch.predict_proba(x_test)[:,1]\n",
    "        logreg_pred = self.logreg_paramsearch.predict_proba(x_test)[:,1]\n",
    "        y_pred = np.mean(np.vstack((knn_pred, svm_pred, logreg_pred)), axis=0) # stack and average\n",
    "        y_pred_binary = np.around(y_pred) # binarize\n",
    "#         print(\"y_pred shape: \", y_pred.shape)\n",
    "#         print(\"y_pred: \", y_pred)\n",
    "        return y_pred_binary"
   ]
  },
  {
   "cell_type": "code",
   "execution_count": 62,
   "metadata": {},
   "outputs": [
    {
     "name": "stdout",
     "output_type": "stream",
     "text": [
      "\n",
      "Fitting 5 folds for each of 4 candidates, totalling 20 fits\n"
     ]
    },
    {
     "name": "stderr",
     "output_type": "stream",
     "text": [
      "[Parallel(n_jobs=1)]: Done  20 out of  20 | elapsed:    0.9s finished\n"
     ]
    },
    {
     "name": "stdout",
     "output_type": "stream",
     "text": [
      "Fitting 5 folds for each of 12 candidates, totalling 60 fits\n"
     ]
    },
    {
     "name": "stderr",
     "output_type": "stream",
     "text": [
      "[Parallel(n_jobs=1)]: Done  60 out of  60 | elapsed:   32.9s finished\n"
     ]
    },
    {
     "name": "stdout",
     "output_type": "stream",
     "text": [
      "Fitting 5 folds for each of 4 candidates, totalling 20 fits\n"
     ]
    },
    {
     "name": "stderr",
     "output_type": "stream",
     "text": [
      "[Parallel(n_jobs=1)]: Done  20 out of  20 | elapsed:    0.3s finished\n"
     ]
    },
    {
     "name": "stdout",
     "output_type": "stream",
     "text": [
      "Best KNN params:  {'n_neighbors': 5}\n",
      "Best SVM params:  {'C': 0.1, 'kernel': 'poly'}\n",
      "Best LogReg params:  {'C': 1.0}\n",
      "Fitting 5 folds for each of 4 candidates, totalling 20 fits\n"
     ]
    },
    {
     "name": "stderr",
     "output_type": "stream",
     "text": [
      "[Parallel(n_jobs=1)]: Done  20 out of  20 | elapsed:    1.3s finished\n"
     ]
    },
    {
     "name": "stdout",
     "output_type": "stream",
     "text": [
      "Fitting 5 folds for each of 12 candidates, totalling 60 fits\n"
     ]
    },
    {
     "name": "stderr",
     "output_type": "stream",
     "text": [
      "[Parallel(n_jobs=1)]: Done  60 out of  60 | elapsed:   42.8s finished\n"
     ]
    },
    {
     "name": "stdout",
     "output_type": "stream",
     "text": [
      "Fitting 5 folds for each of 4 candidates, totalling 20 fits\n",
      "Best KNN params:  {'n_neighbors': 9}\n",
      "Best SVM params:  {'C': 0.1, 'kernel': 'poly'}\n",
      "Best LogReg params:  {'C': 10}\n",
      "Fitting 5 folds for each of 4 candidates, totalling 20 fits\n"
     ]
    },
    {
     "name": "stderr",
     "output_type": "stream",
     "text": [
      "[Parallel(n_jobs=1)]: Done  20 out of  20 | elapsed:    0.1s finished\n",
      "[Parallel(n_jobs=1)]: Done  20 out of  20 | elapsed:    1.1s finished\n"
     ]
    },
    {
     "name": "stdout",
     "output_type": "stream",
     "text": [
      "Fitting 5 folds for each of 12 candidates, totalling 60 fits\n"
     ]
    },
    {
     "name": "stderr",
     "output_type": "stream",
     "text": [
      "[Parallel(n_jobs=1)]: Done  60 out of  60 | elapsed:   32.1s finished\n"
     ]
    },
    {
     "name": "stdout",
     "output_type": "stream",
     "text": [
      "Fitting 5 folds for each of 4 candidates, totalling 20 fits\n"
     ]
    },
    {
     "name": "stderr",
     "output_type": "stream",
     "text": [
      "[Parallel(n_jobs=1)]: Done  20 out of  20 | elapsed:    0.2s finished\n"
     ]
    },
    {
     "name": "stdout",
     "output_type": "stream",
     "text": [
      "Best KNN params:  {'n_neighbors': 7}\n",
      "Best SVM params:  {'C': 0.1, 'kernel': 'poly'}\n",
      "Best LogReg params:  {'C': 0.1}\n",
      "Fitting 5 folds for each of 4 candidates, totalling 20 fits\n"
     ]
    },
    {
     "name": "stderr",
     "output_type": "stream",
     "text": [
      "[Parallel(n_jobs=1)]: Done  20 out of  20 | elapsed:    0.9s finished\n"
     ]
    },
    {
     "name": "stdout",
     "output_type": "stream",
     "text": [
      "Fitting 5 folds for each of 12 candidates, totalling 60 fits\n"
     ]
    },
    {
     "name": "stderr",
     "output_type": "stream",
     "text": [
      "[Parallel(n_jobs=1)]: Done  60 out of  60 | elapsed:   40.2s finished\n"
     ]
    },
    {
     "name": "stdout",
     "output_type": "stream",
     "text": [
      "Fitting 5 folds for each of 4 candidates, totalling 20 fits\n",
      "Best KNN params:  {'n_neighbors': 9}\n",
      "Best SVM params:  {'C': 0.1, 'kernel': 'poly'}\n",
      "Best LogReg params:  {'C': 0.1}\n",
      "Fitting 5 folds for each of 4 candidates, totalling 20 fits\n"
     ]
    },
    {
     "name": "stderr",
     "output_type": "stream",
     "text": [
      "[Parallel(n_jobs=1)]: Done  20 out of  20 | elapsed:    0.1s finished\n",
      "[Parallel(n_jobs=1)]: Done  20 out of  20 | elapsed:    0.8s finished\n"
     ]
    },
    {
     "name": "stdout",
     "output_type": "stream",
     "text": [
      "Fitting 5 folds for each of 12 candidates, totalling 60 fits\n"
     ]
    },
    {
     "name": "stderr",
     "output_type": "stream",
     "text": [
      "[Parallel(n_jobs=1)]: Done  60 out of  60 | elapsed:   32.2s finished\n"
     ]
    },
    {
     "name": "stdout",
     "output_type": "stream",
     "text": [
      "Fitting 5 folds for each of 4 candidates, totalling 20 fits\n",
      "Best KNN params:  {'n_neighbors': 9}\n",
      "Best SVM params:  {'C': 0.1, 'kernel': 'poly'}\n",
      "Best LogReg params:  {'C': 0.1}\n",
      "FC Classified as FC: 112.8, (90.6752411576 %)\n",
      "FC Classified as KD: 11.6, (9.32475884244 %)\n",
      "KD Classified as FC: 8.0, (4.87804878049 %)\n",
      "KD Classified as KD: 156.0, (95.1219512195 %)\n"
     ]
    },
    {
     "name": "stderr",
     "output_type": "stream",
     "text": [
      "[Parallel(n_jobs=1)]: Done  20 out of  20 | elapsed:    0.1s finished\n"
     ]
    }
   ],
   "source": [
    "# Grid search params\n",
    "knn_params = {\n",
    "    'n_neighbors':[3, 5, 7, 9],\n",
    "}\n",
    "\n",
    "svm_params = {\n",
    "    'C': [.1, 1.0, 10, 100],\n",
    "    #     'C': np.logspace(-3, 3, 3),\n",
    "#     'gamma': np.logspace(-3, 3, 10),\n",
    "    'kernel': ['linear', 'rbf', 'poly']\n",
    "}\n",
    "\n",
    "logreg_params = {\n",
    "    'C': [0.1, 1.0, 10, 100],\n",
    "}\n",
    "\n",
    "# Test model! 5-fold CV with hyperparameter optimization\n",
    "clf = SKEnsembleModel(knn_params, svm_params, logreg_params, verbose=1)\n",
    "print()\n",
    "test_model(clf, x, y)"
   ]
  },
  {
   "cell_type": "code",
   "execution_count": null,
   "metadata": {
    "collapsed": true
   },
   "outputs": [],
   "source": []
  }
 ],
 "metadata": {
  "kernelspec": {
   "display_name": "Python [conda env:kd]",
   "language": "python",
   "name": "conda-env-kd-py"
  },
  "language_info": {
   "codemirror_mode": {
    "name": "ipython",
    "version": 3
   },
   "file_extension": ".py",
   "mimetype": "text/x-python",
   "name": "python",
   "nbconvert_exporter": "python",
   "pygments_lexer": "ipython3",
   "version": "3.6.4"
  }
 },
 "nbformat": 4,
 "nbformat_minor": 2
}
