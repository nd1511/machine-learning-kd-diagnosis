{
 "cells": [
  {
   "cell_type": "markdown",
   "metadata": {},
   "source": [
    "# Ensemble Classifiers: Expanded Featureset\n",
    "---"
   ]
  },
  {
   "cell_type": "markdown",
   "metadata": {},
   "source": [
    "### Pre-Training Setup"
   ]
  },
  {
   "cell_type": "code",
   "execution_count": 52,
   "metadata": {
    "collapsed": true
   },
   "outputs": [],
   "source": [
    "import sys\n",
    "sys.path.append('../') # Make parent folder visible\n",
    "import numpy as np\n",
    "\n",
    "from itertools import cycle\n",
    "from scipy import interp\n",
    "\n",
    "from sklearn.model_selection import StratifiedKFold\n",
    "from sklearn.model_selection import GridSearchCV, RandomizedSearchCV\n",
    "from sklearn.metrics import make_scorer, fbeta_score, confusion_matrix, roc_curve, auc\n",
    "\n",
    "from sklearn import svm, linear_model, neighbors, ensemble, naive_bayes, \\\n",
    "    neural_network, tree, gaussian_process, discriminant_analysis\n",
    "    \n",
    "import matplotlib.pyplot as plt\n",
    "    \n",
    "import scipy.stats as sp_stats\n",
    "\n",
    "from preprocess import load_data"
   ]
  },
  {
   "cell_type": "code",
   "execution_count": 2,
   "metadata": {
    "collapsed": true
   },
   "outputs": [],
   "source": [
    "x, y, ids = load_data.load_expanded(one_hot=False, fill_mode='mean')"
   ]
  },
  {
   "cell_type": "markdown",
   "metadata": {},
   "source": [
    "### Helper Functions/Classes"
   ]
  },
  {
   "cell_type": "code",
   "execution_count": 77,
   "metadata": {},
   "outputs": [],
   "source": [
    "# Compute TN, FP, FN, TP\n",
    "def compute_confusion(y_pred, y_test):\n",
    "    confusion = confusion_matrix(y_test, y_pred) # calculate confusion matrix\n",
    "    return confusion.flatten()\n",
    "\n",
    "# Explain TN, FP, FN, TP\n",
    "def explain_confusion(stats):\n",
    "    fc_total = stats[0] + stats[1]\n",
    "    kd_total = stats[2] + stats[3]\n",
    "    fc_as_fc = (stats[0] / fc_total) * 100\n",
    "    print(\"FC Classified as FC: \" + str(stats[0]) + \", (\" + str(fc_as_fc) + \" %)\")\n",
    "    fc_as_kd = (stats[1] / fc_total) * 100\n",
    "    print(\"FC Classified as KD: \" + str(stats[1]) + \", (\" + str(fc_as_kd) + \" %)\")\n",
    "    kd_as_fc = (stats[2] / kd_total) * 100\n",
    "    print(\"KD Classified as FC: \" + str(stats[2]) + \", (\" + str(kd_as_fc) + \" %)\")\n",
    "    kd_as_kd = (stats[3] / kd_total) * 100\n",
    "    print(\"KD Classified as KD: \" + str(stats[3]) + \", (\" + str(kd_as_kd) + \" %)\")\n",
    "\n",
    "# Train and evaluate model using K-Fold CV, print out results, return ROC curves from each split\n",
    "def test_model(model, x, y, threshold=0.5):\n",
    "    stats_arr = []\n",
    "    best_scores = []\n",
    "    roc_curves = []\n",
    "    kf = StratifiedKFold(n_splits=5, shuffle=True, random_state=90007)\n",
    "    for train_idx, test_idx in kf.split(x, y):\n",
    "        x_train, x_test, y_train, y_test = x[train_idx], x[test_idx], y[train_idx], y[test_idx]\n",
    "        best_score = model.train(x_train, y_train)\n",
    "        best_scores.append(best_score)\n",
    "        y_prob = model.predict_proba(x_test)\n",
    "        y_pred = model.predict(x_test, threshold=threshold)\n",
    "        roc_curves.append(roc_curve(y_test, y_prob)) # tuple (fpr, tpr, thresholds)\n",
    "        stats_arr.append(compute_confusion(y_pred, y_test)) # confusion info info\n",
    "    print('CV Confusion: ', [stats.tolist() for stats in stats_arr])\n",
    "    print('Best CV scores: ', np.around(best_scores, decimals=4))\n",
    "    print('Avg best scores: ', np.mean(best_scores))\n",
    "    explain_confusion(np.mean(stats_arr, axis=0))\n",
    "    return roc_curves\n",
    "\n",
    "# Plot ROC Curves from K-Fold CV, show mean, variance across K-folds\n",
    "    # Takes in a list of (fpr-array, tpr-array, threshold-array) tuples\n",
    "def plot_cv_roc_curves(roc_curves):\n",
    "    plt.figure(figsize=(10, 8))\n",
    "    tprs = []\n",
    "    aucs = []\n",
    "    mean_fpr = np.linspace(0, 1, 100)\n",
    "\n",
    "    i = 0\n",
    "    for fpr, tpr, thresholds in roc_curves:\n",
    "        tprs.append(interp(mean_fpr, fpr, tpr))\n",
    "        tprs[-1][0] = 0.0\n",
    "        roc_auc = auc(fpr, tpr)\n",
    "        aucs.append(roc_auc)\n",
    "        plt.plot(fpr, tpr, lw=1, alpha=0.3,\n",
    "                 label='ROC fold %d (AUC = %0.3f)' % (i, roc_auc))\n",
    "\n",
    "        i += 1\n",
    "    plt.plot([0, 1], [0, 1], linestyle='--', lw=2, color='r',\n",
    "             label='Luck', alpha=.8)\n",
    "\n",
    "    mean_tpr = np.mean(tprs, axis=0)\n",
    "    mean_tpr[-1] = 1.0\n",
    "    mean_auc = auc(mean_fpr, mean_tpr)\n",
    "    std_auc = np.std(aucs)\n",
    "    plt.plot(mean_fpr, mean_tpr, color='b',\n",
    "             label=r'Mean ROC (AUC = %0.3f $\\pm$ %0.3f)' % (mean_auc, std_auc),\n",
    "             lw=2, alpha=.8)\n",
    "\n",
    "    std_tpr = np.std(tprs, axis=0)\n",
    "    tprs_upper = np.minimum(mean_tpr + std_tpr, 1)\n",
    "    tprs_lower = np.maximum(mean_tpr - std_tpr, 0)\n",
    "    plt.fill_between(mean_fpr, tprs_lower, tprs_upper, color='grey', alpha=.2,\n",
    "                     label=r'$\\pm$ 1 std. dev.')\n",
    "\n",
    "    plt.xlim([-0.05, 1.05])\n",
    "    plt.ylim([-0.05, 1.05])\n",
    "    plt.xticks(np.arange(0, 1, step=0.05))\n",
    "    plt.yticks(np.arange(0, 1, step=0.05))\n",
    "    plt.xlabel('False Positive Rate')\n",
    "    plt.ylabel('True Positive Rate')\n",
    "    plt.title('ROC Curves Across K-Folds (Interpolated)')\n",
    "    plt.legend(loc=\"lower right\")\n",
    "    plt.grid(True)\n",
    "    plt.show()\n",
    "    \n",
    "# ScikitModel wrapper class\n",
    "class ScikitModel:\n",
    "    def __init__(self, skmodel, params, random_search=True, n_iter=10, scoring='roc_auc', beta=1.0, verbose=False):\n",
    "        self.skmodel = skmodel\n",
    "        self.cv_scorer = 'roc_auc' if scoring=='roc_auc' else make_scorer(fbeta_score, beta=beta)\n",
    "        self.verbose = verbose\n",
    "        if random_search == True: # Randomized grid search\n",
    "            self.paramsearch = RandomizedSearchCV(self.skmodel, params, cv=5, \n",
    "                                        n_iter=n_iter,\n",
    "                                        scoring=self.cv_scorer, \n",
    "                                        verbose=verbose)\n",
    "        else: # Regular grid search\n",
    "            self.paramsearch = GridSearchCV(self.skmodel, params, cv=5,\n",
    "                                        scoring=self.cv_scorer, \n",
    "                                        verbose=verbose)\n",
    "        \n",
    "    # Run CV fit on x_train, y_train\n",
    "    def train(self, x_train, y_train):\n",
    "        self.paramsearch.fit(x_train, y_train)\n",
    "        if self.verbose == True:\n",
    "            print('Best params: ', self.paramsearch.best_params_)\n",
    "            print('Best score: ', self.paramsearch.best_score_)\n",
    "        return self.paramsearch.best_score_ # return ROC-AUC or f-beta\n",
    "    \n",
    "    # Predict on x_test, return probability that each patient is KD\n",
    "    def predict_proba(self, x_test):\n",
    "        y_prob = self.paramsearch.predict_proba(x_test)[:, 1]\n",
    "        return y_prob\n",
    "    \n",
    "    # Predict on x_test, return binary y_pred\n",
    "    def predict(self, x_test, threshold=0.5):\n",
    "        y_prob = self.paramsearch.predict_proba(x_test)[:, 1] # probability of KD\n",
    "        y_pred = np.array(y_prob >= threshold).astype(np.int32) # thresholding\n",
    "        return y_pred\n",
    "\n",
    "    # Train on x_train and y_train, and predict on x_test\n",
    "    def train_test(self, x_train, x_test, y_train, y_test, threshold=0.5):\n",
    "        self.train(x_train, y_train)\n",
    "        return self.predict(x_test, threshold=threshold)"
   ]
  },
  {
   "cell_type": "markdown",
   "metadata": {},
   "source": [
    "### Test out Candidate Learners"
   ]
  },
  {
   "cell_type": "code",
   "execution_count": null,
   "metadata": {},
   "outputs": [],
   "source": [
    "svm_rocs = test_model(ScikitModel(svm.SVC(probability=True), \n",
    "                       {\n",
    "                           'C': np.logspace(-3, 3, 100),\n",
    "                           'gamma': np.logspace(-3, 3, 100),\n",
    "                           'kernel': ['linear', 'rbf', 'poly']\n",
    "                       },\n",
    "                       random_search=True,\n",
    "                       n_iter=100,\n",
    "                       scoring='roc_auc',\n",
    "                       verbose=True),\n",
    "                      x, y,\n",
    "                      threshold=0.40)"
   ]
  },
  {
   "cell_type": "code",
   "execution_count": 79,
   "metadata": {},
   "outputs": [
    {
     "name": "stdout",
     "output_type": "stream",
     "text": [
      "Fitting 5 folds for each of 5 candidates, totalling 25 fits\n",
      "Best params:  {'C': 0.01}\n",
      "Best score:  0.983330902425\n",
      "Fitting 5 folds for each of 5 candidates, totalling 25 fits\n"
     ]
    },
    {
     "name": "stderr",
     "output_type": "stream",
     "text": [
      "[Parallel(n_jobs=1)]: Done  25 out of  25 | elapsed:    0.2s finished\n",
      "[Parallel(n_jobs=1)]: Done  25 out of  25 | elapsed:    0.2s finished\n"
     ]
    },
    {
     "name": "stdout",
     "output_type": "stream",
     "text": [
      "Best params:  {'C': 0.01}\n",
      "Best score:  0.97744783695\n",
      "Fitting 5 folds for each of 5 candidates, totalling 25 fits\n",
      "Best params:  {'C': 1.0}\n",
      "Best score:  0.982086419115\n",
      "Fitting 5 folds for each of 5 candidates, totalling 25 fits\n"
     ]
    },
    {
     "name": "stderr",
     "output_type": "stream",
     "text": [
      "[Parallel(n_jobs=1)]: Done  25 out of  25 | elapsed:    0.2s finished\n",
      "[Parallel(n_jobs=1)]: Done  25 out of  25 | elapsed:    0.2s finished\n"
     ]
    },
    {
     "name": "stdout",
     "output_type": "stream",
     "text": [
      "Best params:  {'C': 0.10000000000000001}\n",
      "Best score:  0.978113205694\n",
      "Fitting 5 folds for each of 5 candidates, totalling 25 fits\n",
      "Best params:  {'C': 0.10000000000000001}\n",
      "Best score:  0.981677474335\n",
      "CV Confusion:  [[112, 13, 6, 158], [114, 11, 3, 161], [111, 13, 7, 157], [115, 9, 4, 160], [105, 19, 6, 158]]\n",
      "Best CV scores:  [ 0.9833  0.9774  0.9821  0.9781  0.9817]\n",
      "Avg best scores:  0.980531167703\n",
      "FC Classified as FC: 111.4, (89.5498392283 %)\n",
      "FC Classified as KD: 13.0, (10.4501607717 %)\n",
      "KD Classified as FC: 5.2, (3.17073170732 %)\n",
      "KD Classified as KD: 158.8, (96.8292682927 %)\n"
     ]
    },
    {
     "name": "stderr",
     "output_type": "stream",
     "text": [
      "[Parallel(n_jobs=1)]: Done  25 out of  25 | elapsed:    0.2s finished\n"
     ]
    }
   ],
   "source": [
    "lr_rocs = test_model(ScikitModel(linear_model.LogisticRegression(), \n",
    "                       params={\n",
    "                           'C': np.logspace(-2, 2, 5)\n",
    "                       },\n",
    "                       random_search=False,\n",
    "                       scoring='roc_auc',\n",
    "                       verbose=True),\n",
    "           x, y,\n",
    "           threshold=0.4)"
   ]
  },
  {
   "cell_type": "code",
   "execution_count": 80,
   "metadata": {},
   "outputs": [
    {
     "data": {
      "image/png": "[encoded data removed]",
      "text/plain": [
       "<matplotlib.figure.Figure at 0x1164cb358>"
      ]
     },
     "metadata": {},
     "output_type": "display_data"
    }
   ],
   "source": [
    "plot_cv_roc_curves(lr_rocs)"
   ]
  },
  {
   "cell_type": "markdown",
   "metadata": {},
   "source": [
    "## SKLearn Ensemble Model"
   ]
  },
  {
   "cell_type": "code",
   "execution_count": 22,
   "metadata": {},
   "outputs": [
    {
     "name": "stdout",
     "output_type": "stream",
     "text": [
      "Fitting 5 folds for each of 100 candidates, totalling 500 fits\n"
     ]
    },
    {
     "name": "stderr",
     "output_type": "stream",
     "text": [
      "[Parallel(n_jobs=1)]: Done 500 out of 500 | elapsed:  2.0min finished\n"
     ]
    },
    {
     "name": "stdout",
     "output_type": "stream",
     "text": [
      "Best params:  {'svm__kernel': 'linear', 'svm__gamma': 0.01830738280295368, 'svm__C': 0.01291549665014884, 'lr__C': 0.019179102616724886}\n",
      "Best score:  0.983728411141\n",
      "Fitting 5 folds for each of 100 candidates, totalling 500 fits\n"
     ]
    },
    {
     "name": "stderr",
     "output_type": "stream",
     "text": [
      "[Parallel(n_jobs=1)]: Done 500 out of 500 | elapsed:  2.6min finished\n"
     ]
    },
    {
     "name": "stdout",
     "output_type": "stream",
     "text": [
      "Best params:  {'svm__kernel': 'linear', 'svm__gamma': 22.051307399030456, 'svm__C': 62.802914418342468, 'lr__C': 0.012045035402587823}\n",
      "Best score:  0.978078518279\n",
      "Fitting 5 folds for each of 100 candidates, totalling 500 fits\n"
     ]
    },
    {
     "name": "stderr",
     "output_type": "stream",
     "text": [
      "[Parallel(n_jobs=1)]: Done 500 out of 500 | elapsed:  1.8min finished\n"
     ]
    },
    {
     "name": "stdout",
     "output_type": "stream",
     "text": [
      "Best params:  {'svm__kernel': 'rbf', 'svm__gamma': 0.75646332755462908, 'svm__C': 0.010235310218990263, 'lr__C': 0.79248289835391772}\n",
      "Best score:  0.983738927235\n",
      "Fitting 5 folds for each of 100 candidates, totalling 500 fits\n"
     ]
    },
    {
     "name": "stderr",
     "output_type": "stream",
     "text": [
      "[Parallel(n_jobs=1)]: Done 500 out of 500 | elapsed:  1.8min finished\n"
     ]
    },
    {
     "name": "stdout",
     "output_type": "stream",
     "text": [
      "Best params:  {'svm__kernel': 'linear', 'svm__gamma': 0.010235310218990263, 'svm__C': 0.029150530628251757, 'lr__C': 0.014508287784959394}\n",
      "Best score:  0.978526589803\n",
      "Fitting 5 folds for each of 100 candidates, totalling 500 fits\n",
      "Best params:  {'svm__kernel': 'linear', 'svm__gamma': 0.0025353644939701114, 'svm__C': 0.0015922827933410922, 'lr__C': 43.287612810830616}\n",
      "Best score:  0.982074962653\n",
      "CV Confusion:  [[115, 10, 10, 154], [113, 12, 4, 160], [106, 18, 6, 158], [114, 10, 4, 160], [106, 18, 6, 158]]\n",
      "Best CV scores:  [ 0.9837  0.9781  0.9837  0.9785  0.9821]\n",
      "Avg best scores:  0.981229481822\n",
      "FC Classified as FC: 110.8, (89.0675241158 %)\n",
      "FC Classified as KD: 13.6, (10.9324758842 %)\n",
      "KD Classified as FC: 6.0, (3.65853658537 %)\n",
      "KD Classified as KD: 158.0, (96.3414634146 %)\n"
     ]
    },
    {
     "name": "stderr",
     "output_type": "stream",
     "text": [
      "[Parallel(n_jobs=1)]: Done 500 out of 500 | elapsed:  2.1min finished\n"
     ]
    }
   ],
   "source": [
    "# Grid search params\n",
    "clf1 = svm.SVC(probability=True)\n",
    "clf2 = linear_model.LogisticRegression()\n",
    "\n",
    "eclf = ensemble.VotingClassifier(\n",
    "    estimators=[('svm', clf1), ('lr', clf2)],\n",
    "    voting='soft')\n",
    "\n",
    "params = {\n",
    "    'svm__C': np.logspace(-3, 2, 100),\n",
    "    'svm__gamma': np.logspace(-3, 2, 100),\n",
    "    'svm__kernel': ['linear', 'rbf', 'poly'],\n",
    "    'lr__C': np.logspace(-3, 2, 100)\n",
    "}\n",
    "\n",
    "# Test model! 5-fold CV with hyperparameter optimization\n",
    "clf = ScikitModel(\n",
    "    eclf,\n",
    "    params,\n",
    "    random_search=True, \n",
    "    n_iter=100, \n",
    "    verbose=True)\n",
    "\n",
    "test_model(clf, x, y, threshold=0.4)"
   ]
  },
  {
   "cell_type": "code",
   "execution_count": null,
   "metadata": {
    "collapsed": true
   },
   "outputs": [],
   "source": []
  }
 ],
 "metadata": {
  "kernelspec": {
   "display_name": "Python [conda env:kd]",
   "language": "python",
   "name": "conda-env-kd-py"
  },
  "language_info": {
   "codemirror_mode": {
    "name": "ipython",
    "version": 3
   },
   "file_extension": ".py",
   "mimetype": "text/x-python",
   "name": "python",
   "nbconvert_exporter": "python",
   "pygments_lexer": "ipython3",
   "version": "3.6.4"
  }
 },
 "nbformat": 4,
 "nbformat_minor": 2
}
