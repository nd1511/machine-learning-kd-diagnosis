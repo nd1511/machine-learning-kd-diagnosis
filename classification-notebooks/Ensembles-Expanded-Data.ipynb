{
 "cells": [
  {
   "cell_type": "markdown",
   "metadata": {},
   "source": [
    "# Ensemble Classifiers: Expanded Featureset\n",
    "---"
   ]
  },
  {
   "cell_type": "markdown",
   "metadata": {},
   "source": [
    "### Pre-Training Setup"
   ]
  },
  {
   "cell_type": "code",
   "execution_count": 1,
   "metadata": {
    "collapsed": true
   },
   "outputs": [],
   "source": [
    "import sys\n",
    "sys.path.append('../') # Make parent folder visible\n",
    "import numpy as np\n",
    "\n",
    "from sklearn.model_selection import StratifiedKFold\n",
    "from sklearn.model_selection import GridSearchCV, RandomizedSearchCV\n",
    "from sklearn.metrics import make_scorer, fbeta_score, confusion_matrix, roc_curve\n",
    "\n",
    "from sklearn import svm, linear_model, neighbors, ensemble, naive_bayes, \\\n",
    "    neural_network, tree, gaussian_process, discriminant_analysis\n",
    "    \n",
    "import scipy.stats as sp_stats\n",
    "\n",
    "from preprocess import load_data"
   ]
  },
  {
   "cell_type": "code",
   "execution_count": 2,
   "metadata": {
    "collapsed": true
   },
   "outputs": [],
   "source": [
    "x, y, ids = load_data.load_expanded(one_hot=False, fill_mode='mean')"
   ]
  },
  {
   "cell_type": "markdown",
   "metadata": {},
   "source": [
    "### Helper Functions/Classes"
   ]
  },
  {
   "cell_type": "code",
   "execution_count": 15,
   "metadata": {
    "collapsed": true
   },
   "outputs": [],
   "source": [
    "# Compute TN, FP, FN, TP\n",
    "def compute_stats(y_pred, y_test):\n",
    "    confusion = confusion_matrix(y_test, y_pred) # calculate confusion matrix\n",
    "    return confusion.flatten()\n",
    "\n",
    "# Explain TN, FP, FN, TP\n",
    "def explain_stats(stats):\n",
    "    fc_total = stats[0] + stats[1]\n",
    "    kd_total = stats[2] + stats[3]\n",
    "    fc_as_fc = (stats[0] / fc_total) * 100\n",
    "    print(\"FC Classified as FC: \" + str(stats[0]) + \", (\" + str(fc_as_fc) + \" %)\")\n",
    "    fc_as_kd = (stats[1] / fc_total) * 100\n",
    "    print(\"FC Classified as KD: \" + str(stats[1]) + \", (\" + str(fc_as_kd) + \" %)\")\n",
    "    kd_as_fc = (stats[2] / kd_total) * 100\n",
    "    print(\"KD Classified as FC: \" + str(stats[2]) + \", (\" + str(kd_as_fc) + \" %)\")\n",
    "    kd_as_kd = (stats[3] / kd_total) * 100\n",
    "    print(\"KD Classified as KD: \" + str(stats[3]) + \", (\" + str(kd_as_kd) + \" %)\")\n",
    "\n",
    "# Train and evaluate model using K-Fold CV, print out results\n",
    "    # TODO: return ROC curves from each split\n",
    "def test_model(model, x, y, threshold=0.5):\n",
    "    stats_arr = []\n",
    "    best_scores = []\n",
    "    kf = StratifiedKFold(n_splits=5, shuffle=True, random_state=90007)\n",
    "    for train_idx, test_idx in kf.split(x, y):\n",
    "        x_train, x_test, y_train, y_test = x[train_idx], x[test_idx], y[train_idx], y[test_idx]\n",
    "        best_score = model.train(x_train, y_train)\n",
    "        best_scores.append(best_score)\n",
    "        y_pred = model.predict(x_test, threshold=threshold)\n",
    "        stats_arr.append(compute_stats(y_pred, y_test))\n",
    "    print('CV Confusion: ', [stats.tolist() for stats in stats_arr])\n",
    "    print('Best CV scores: ', np.around(best_scores, decimals=4))\n",
    "    print('Avg best scores: ', np.mean(best_scores))\n",
    "    explain_stats(np.mean(stats_arr, axis=0))\n",
    "    \n",
    "    \n",
    "# ScikitModel wrapper class\n",
    "class ScikitModel:\n",
    "    def __init__(self, skmodel, params, random_search=True, n_iter=10, scoring='roc_auc', beta=1.0, verbose=False):\n",
    "        self.skmodel = skmodel\n",
    "        self.cv_scorer = 'roc_auc' if scoring=='roc_auc' else make_scorer(fbeta_score, beta=beta)\n",
    "        self.verbose = verbose\n",
    "        if random_search == True: # Randomized grid search\n",
    "            self.paramsearch = RandomizedSearchCV(self.skmodel, params, cv=5, \n",
    "                                        n_iter=n_iter,\n",
    "                                        scoring=self.cv_scorer, \n",
    "                                        verbose=verbose)\n",
    "        else: # Regular grid search\n",
    "            self.paramsearch = GridSearchCV(self.skmodel, params, cv=5,\n",
    "                                        scoring=self.cv_scorer, \n",
    "                                        verbose=verbose)\n",
    "        \n",
    "    # Run CV fit on x_train, y_train\n",
    "    def train(self, x_train, y_train):\n",
    "        self.paramsearch.fit(x_train, y_train)\n",
    "        if self.verbose == True:\n",
    "            print('Best params: ', self.paramsearch.best_params_)\n",
    "            print('Best score: ', self.paramsearch.best_score_)\n",
    "        return self.paramsearch.best_score_ # return ROC-AUC or f-beta\n",
    "    \n",
    "    # Predict on x_test, return binary y_pred\n",
    "    def predict(self, x_test, threshold=0.5):\n",
    "        y_prob = self.paramsearch.predict_proba(x_test)[:, 1] # probability of KD\n",
    "        y_pred = np.array(y_prob >= threshold).astype(np.int32) # thresholding\n",
    "        return y_pred\n",
    "\n",
    "    # Train on x_train and y_train, and predict on x_test\n",
    "    def train_test(self, x_train, x_test, y_train, y_test, threshold=0.5):\n",
    "        self.train(x_train, y_train)\n",
    "        return self.predict(x_test, threshold=threshold)"
   ]
  },
  {
   "cell_type": "markdown",
   "metadata": {},
   "source": [
    "### Test out Candidate Learners"
   ]
  },
  {
   "cell_type": "code",
   "execution_count": 10,
   "metadata": {},
   "outputs": [
    {
     "name": "stdout",
     "output_type": "stream",
     "text": [
      "Fitting 5 folds for each of 50 candidates, totalling 250 fits\n"
     ]
    },
    {
     "name": "stderr",
     "output_type": "stream",
     "text": [
      "[Parallel(n_jobs=1)]: Done 250 out of 250 | elapsed:  3.0min finished\n"
     ]
    },
    {
     "name": "stdout",
     "output_type": "stream",
     "text": [
      "Best params:  {'kernel': 'rbf', 'gamma': 0.0015199110829529332, 'C': 0.4641588833612782}\n",
      "Best score:  0.983420648759\n",
      "Fitting 5 folds for each of 50 candidates, totalling 250 fits\n"
     ]
    },
    {
     "name": "stderr",
     "output_type": "stream",
     "text": [
      "[Parallel(n_jobs=1)]: Done 250 out of 250 | elapsed:  6.8min finished\n"
     ]
    },
    {
     "name": "stdout",
     "output_type": "stream",
     "text": [
      "Best params:  {'kernel': 'linear', 'gamma': 2.1544346900318843, 'C': 1.0722672220103231}\n",
      "Best score:  0.977635752532\n",
      "Fitting 5 folds for each of 50 candidates, totalling 250 fits\n"
     ]
    },
    {
     "name": "stderr",
     "output_type": "stream",
     "text": [
      "[Parallel(n_jobs=1)]: Done 250 out of 250 | elapsed:   54.8s finished\n"
     ]
    },
    {
     "name": "stdout",
     "output_type": "stream",
     "text": [
      "Best params:  {'kernel': 'linear', 'gamma': 0.0015199110829529332, 'C': 0.0040370172585965534}\n",
      "Best score:  0.982350150933\n",
      "Fitting 5 folds for each of 50 candidates, totalling 250 fits\n"
     ]
    },
    {
     "name": "stderr",
     "output_type": "stream",
     "text": [
      "[Parallel(n_jobs=1)]: Done 250 out of 250 | elapsed:  4.0min finished\n"
     ]
    },
    {
     "name": "stdout",
     "output_type": "stream",
     "text": [
      "Best params:  {'kernel': 'rbf', 'gamma': 0.0030538555088334154, 'C': 4.9770235643321135}\n",
      "Best score:  0.978463189718\n",
      "Fitting 5 folds for each of 50 candidates, totalling 250 fits\n",
      "Best params:  {'kernel': 'linear', 'gamma': 0.0015199110829529332, 'C': 0.016297508346206444}\n",
      "Best score:  0.981706896582\n",
      "CV Confusion:  [[115, 10, 13, 151], [114, 11, 6, 158], [110, 14, 12, 152], [115, 9, 4, 160], [107, 17, 6, 158]]\n",
      "Best CV scores:  [ 0.9834  0.9776  0.9824  0.9785  0.9817]\n",
      "Avg best scores:  0.980715327705\n",
      "FC Classified as FC: 112.2, (90.192926045 %)\n",
      "FC Classified as KD: 12.2, (9.80707395498 %)\n",
      "KD Classified as FC: 8.2, (5.0 %)\n",
      "KD Classified as KD: 155.8, (95.0 %)\n"
     ]
    },
    {
     "name": "stderr",
     "output_type": "stream",
     "text": [
      "[Parallel(n_jobs=1)]: Done 250 out of 250 | elapsed:  4.7min finished\n"
     ]
    }
   ],
   "source": [
    "test_model(ScikitModel(svm.SVC(probability=True), \n",
    "                       {\n",
    "                           'C': np.logspace(-3, 3, 100),\n",
    "                           'gamma': np.logspace(-3, 3, 100),\n",
    "                           'kernel': ['linear', 'rbf', 'poly']\n",
    "                       },\n",
    "                       random=True,\n",
    "                       n_iter=50,\n",
    "                       scoring='roc_auc',\n",
    "                       verbose=True),\n",
    "           x, y,\n",
    "          threshold=0.45)"
   ]
  },
  {
   "cell_type": "code",
   "execution_count": 17,
   "metadata": {},
   "outputs": [
    {
     "name": "stdout",
     "output_type": "stream",
     "text": [
      "Fitting 5 folds for each of 5 candidates, totalling 25 fits\n",
      "Best params:  {'C': 0.01}\n",
      "Best score:  0.983330902425\n",
      "Fitting 5 folds for each of 5 candidates, totalling 25 fits\n"
     ]
    },
    {
     "name": "stderr",
     "output_type": "stream",
     "text": [
      "[Parallel(n_jobs=1)]: Done  25 out of  25 | elapsed:    0.2s finished\n",
      "[Parallel(n_jobs=1)]: Done  25 out of  25 | elapsed:    0.2s finished\n"
     ]
    },
    {
     "name": "stdout",
     "output_type": "stream",
     "text": [
      "Best params:  {'C': 0.01}\n",
      "Best score:  0.97744783695\n",
      "Fitting 5 folds for each of 5 candidates, totalling 25 fits\n",
      "Best params:  {'C': 1.0}\n",
      "Best score:  0.982086419115\n",
      "Fitting 5 folds for each of 5 candidates, totalling 25 fits\n"
     ]
    },
    {
     "name": "stderr",
     "output_type": "stream",
     "text": [
      "[Parallel(n_jobs=1)]: Done  25 out of  25 | elapsed:    0.2s finished\n",
      "[Parallel(n_jobs=1)]: Done  25 out of  25 | elapsed:    0.2s finished\n"
     ]
    },
    {
     "name": "stdout",
     "output_type": "stream",
     "text": [
      "Best params:  {'C': 0.10000000000000001}\n",
      "Best score:  0.978113205694\n",
      "Fitting 5 folds for each of 5 candidates, totalling 25 fits\n",
      "Best params:  {'C': 0.10000000000000001}\n",
      "Best score:  0.981677474335\n",
      "CV Confusion:  [[112, 13, 6, 158], [114, 11, 3, 161], [111, 13, 7, 157], [115, 9, 4, 160], [105, 19, 6, 158]]\n",
      "Best CV scores:  [ 0.9833  0.9774  0.9821  0.9781  0.9817]\n",
      "Avg best scores:  0.980531167703\n",
      "FC Classified as FC: 111.4, (89.5498392283 %)\n",
      "FC Classified as KD: 13.0, (10.4501607717 %)\n",
      "KD Classified as FC: 5.2, (3.17073170732 %)\n",
      "KD Classified as KD: 158.8, (96.8292682927 %)\n"
     ]
    },
    {
     "name": "stderr",
     "output_type": "stream",
     "text": [
      "[Parallel(n_jobs=1)]: Done  25 out of  25 | elapsed:    0.2s finished\n"
     ]
    }
   ],
   "source": [
    "test_model(ScikitModel(linear_model.LogisticRegression(), \n",
    "                       params={\n",
    "                           'C': np.logspace(-2, 2, 5)\n",
    "                       },\n",
    "                       random_search=False,\n",
    "                       scoring='roc_auc',\n",
    "                       verbose=True),\n",
    "           x, y,\n",
    "           threshold=0.4)"
   ]
  },
  {
   "cell_type": "markdown",
   "metadata": {},
   "source": [
    "## 3-Learner Ensemble"
   ]
  },
  {
   "cell_type": "code",
   "execution_count": 21,
   "metadata": {},
   "outputs": [
    {
     "name": "stdout",
     "output_type": "stream",
     "text": [
      "Fitting 5 folds for each of 75 candidates, totalling 375 fits\n"
     ]
    },
    {
     "name": "stderr",
     "output_type": "stream",
     "text": [
      "[Parallel(n_jobs=1)]: Done 375 out of 375 | elapsed:  2.1min finished\n"
     ]
    },
    {
     "name": "stdout",
     "output_type": "stream",
     "text": [
      "Best params:  {'svm__kernel': 'linear', 'svm__gamma': 0.26560877829466867, 'svm__C': 0.0015922827933410922, 'lr__C': 0.10235310218990264}\n",
      "Best score:  0.983499294502\n",
      "Fitting 5 folds for each of 75 candidates, totalling 375 fits\n"
     ]
    },
    {
     "name": "stderr",
     "output_type": "stream",
     "text": [
      "[Parallel(n_jobs=1)]: Done 375 out of 375 | elapsed:  1.9min finished\n"
     ]
    },
    {
     "name": "stdout",
     "output_type": "stream",
     "text": [
      "Best params:  {'svm__kernel': 'linear', 'svm__gamma': 3.8535285937105273, 'svm__C': 2.71858824273294, 'lr__C': 0.014508287784959394}\n",
      "Best score:  0.978231479603\n",
      "Fitting 5 folds for each of 75 candidates, totalling 375 fits\n"
     ]
    },
    {
     "name": "stderr",
     "output_type": "stream",
     "text": [
      "[Parallel(n_jobs=1)]: Done 375 out of 375 | elapsed:  2.2min finished\n"
     ]
    },
    {
     "name": "stdout",
     "output_type": "stream",
     "text": [
      "Best params:  {'svm__kernel': 'linear', 'svm__gamma': 15.556761439304722, 'svm__C': 0.0025353644939701114, 'lr__C': 39.442060594376599}\n",
      "Best score:  0.98329789621\n",
      "Fitting 5 folds for each of 75 candidates, totalling 375 fits\n"
     ]
    },
    {
     "name": "stderr",
     "output_type": "stream",
     "text": [
      "[Parallel(n_jobs=1)]: Done 375 out of 375 | elapsed:  2.0min finished\n"
     ]
    },
    {
     "name": "stdout",
     "output_type": "stream",
     "text": [
      "Best params:  {'svm__kernel': 'linear', 'svm__gamma': 0.1668100537200059, 'svm__C': 0.016297508346206444, 'lr__C': 0.033516026509388425}\n",
      "Best score:  0.978433381268\n",
      "Fitting 5 folds for each of 75 candidates, totalling 375 fits\n",
      "Best params:  {'svm__kernel': 'linear', 'svm__gamma': 0.42292428743894989, 'svm__C': 0.0035938136638046258, 'lr__C': 62.802914418342596}\n",
      "Best score:  0.981996909575\n",
      "CV Confusion:  [[117, 8, 13, 151], [115, 10, 6, 158], [112, 12, 11, 153], [117, 7, 4, 160], [109, 15, 6, 158]]\n",
      "Best CV scores:  [ 0.9835  0.9782  0.9833  0.9784  0.982 ]\n",
      "Avg best scores:  0.981091792232\n",
      "FC Classified as FC: 114.0, (91.6398713826 %)\n",
      "FC Classified as KD: 10.4, (8.36012861736 %)\n",
      "KD Classified as FC: 8.0, (4.87804878049 %)\n",
      "KD Classified as KD: 156.0, (95.1219512195 %)\n"
     ]
    },
    {
     "name": "stderr",
     "output_type": "stream",
     "text": [
      "[Parallel(n_jobs=1)]: Done 375 out of 375 | elapsed:  2.3min finished\n"
     ]
    }
   ],
   "source": [
    "# Grid search params\n",
    "clf1 = svm.SVC(probability=True)\n",
    "clf2 = linear_model.LogisticRegression()\n",
    "\n",
    "eclf = ensemble.VotingClassifier(\n",
    "    estimators=[('svm', clf1), ('lr', clf2)],\n",
    "    voting='soft')\n",
    "\n",
    "params = {\n",
    "    'svm__C': np.logspace(-3, 2, 100),\n",
    "    'svm__gamma': np.logspace(-3, 2, 100),\n",
    "    'svm__kernel': ['linear', 'rbf', 'poly'],\n",
    "    'lr__C': np.logspace(-2, 2, 100)\n",
    "}\n",
    "\n",
    "# Test model! 5-fold CV with hyperparameter optimization\n",
    "clf = ScikitModel(\n",
    "    eclf,\n",
    "    params,\n",
    "    random_search=True, \n",
    "    n_iter=75, \n",
    "    verbose=True)\n",
    "\n",
    "test_model(clf, x, y, threshold=0.5)"
   ]
  },
  {
   "cell_type": "code",
   "execution_count": null,
   "metadata": {
    "collapsed": true
   },
   "outputs": [],
   "source": []
  }
 ],
 "metadata": {
  "kernelspec": {
   "display_name": "Python [conda env:kd]",
   "language": "python",
   "name": "conda-env-kd-py"
  },
  "language_info": {
   "codemirror_mode": {
    "name": "ipython",
    "version": 3
   },
   "file_extension": ".py",
   "mimetype": "text/x-python",
   "name": "python",
   "nbconvert_exporter": "python",
   "pygments_lexer": "ipython3",
   "version": "3.6.4"
  }
 },
 "nbformat": 4,
 "nbformat_minor": 2
}
