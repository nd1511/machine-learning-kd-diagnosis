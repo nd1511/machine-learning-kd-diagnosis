{
 "cells": [
  {
   "cell_type": "markdown",
   "metadata": {},
   "source": [
    "# Deep Neural Network KD Classifier"
   ]
  },
  {
   "cell_type": "code",
   "execution_count": 11,
   "metadata": {
    "collapsed": true
   },
   "outputs": [],
   "source": [
    "# Imports\n",
    "import sys\n",
    "sys.path.append('../') # Make parent folder visible\n",
    "from preprocess import load_data\n",
    "from sklearn import preprocessing\n",
    "import matplotlib.pyplot as plt\n",
    "import pickle as pkl\n",
    "from deepnet.deep_model import DeepKDModel\n",
    "from sklearn.metrics import roc_auc_score, f1_score, accuracy_score, recall_score, precision_score, roc_curve\n",
    "import numpy as np\n",
    "\n",
    "# Load data\n",
    "x_train, x_test, y_train, y_test = load_data.load(one_hot=False)"
   ]
  },
  {
   "cell_type": "code",
   "execution_count": 2,
   "metadata": {
    "collapsed": true
   },
   "outputs": [],
   "source": [
    "# Feature normalization\n",
    "scaler = preprocessing.StandardScaler().fit(x_train)\n",
    "x_train = scaler.transform(x_train)\n",
    "x_test = scaler.transform(x_test)"
   ]
  },
  {
   "cell_type": "code",
   "execution_count": 3,
   "metadata": {},
   "outputs": [],
   "source": [
    "# Init model\n",
    "clf = DeepKDModel(num_hidden_layers=1,\n",
    "                  num_nodes_initial=50,\n",
    "                 num_nodes_scaling_factor=0.5,\n",
    "                 epochs=356,\n",
    "                 learning_rate=7.168e-05,\n",
    "                 batch_size=16,\n",
    "                 dropout=0.695)\n",
    "\n",
    "# Train model\n",
    "clf.train(x_train, y_train, weights_folder='../deepnet/')"
   ]
  },
  {
   "cell_type": "code",
   "execution_count": 23,
   "metadata": {},
   "outputs": [
    {
     "name": "stdout",
     "output_type": "stream",
     "text": [
      "INFO:tensorflow:Restoring parameters from ../deepnet/deep_kd_model\n"
     ]
    }
   ],
   "source": [
    "# Make predictions\n",
    "logits_pred = clf.predict(x_test, weights_folder='../deepnet/') # return logits\n",
    "y_pred_binary = np.argmax(logits_pred, axis=1)\n",
    "y_prob_logits = logits_pred[:, 1]"
   ]
  },
  {
   "cell_type": "code",
   "execution_count": 24,
   "metadata": {},
   "outputs": [
    {
     "name": "stdout",
     "output_type": "stream",
     "text": [
      "Accuracy:  0.930463576159\n",
      "Precision:  0.948207171315\n",
      "Recall:  0.967479674797\n",
      "F1 Score:  0.957746478873\n",
      "ROC AUC:  0.965882694541\n"
     ]
    }
   ],
   "source": [
    "# Evaluate predictions\n",
    "print('Accuracy: ', accuracy_score(y_test, y_pred_binary))\n",
    "print('Precision: ', precision_score(y_test, y_pred_binary))\n",
    "print('Recall: ', recall_score(y_test, y_pred_binary))\n",
    "print('F1 Score: ', f1_score(y_test, y_pred_binary))\n",
    "print('ROC AUC: ', roc_auc_score(y_test, y_prob_logits))"
   ]
  },
  {
   "cell_type": "code",
   "execution_count": 26,
   "metadata": {},
   "outputs": [
    {
     "data": {
      "image/png": "[encoded data removed]",
      "text/plain": [
       "<matplotlib.figure.Figure at 0x11b969860>"
      ]
     },
     "metadata": {},
     "output_type": "display_data"
    }
   ],
   "source": [
    "# Plot ROC Curve\n",
    "roc = roc_curve(y_test, y_prob_logits)\n",
    "fpr, tpr, thresholds = roc\n",
    "plt.figure()\n",
    "lw = 2\n",
    "plt.plot(fpr, tpr, color='darkorange',\n",
    "         lw=lw, label='ROC curve (area = %0.2f)' % roc_auc_score(y_test, y_prob_logits))\n",
    "plt.plot([0, 1], [0, 1], color='navy', lw=lw, linestyle='--')\n",
    "plt.xlim([0.0, 1.0])\n",
    "plt.ylim([0.0, 1.05])\n",
    "plt.xlabel('False Positive Rate')\n",
    "plt.ylabel('True Positive Rate')\n",
    "plt.title('Deep Neural Network Classifier ROC AUC Curve')\n",
    "plt.legend(loc=\"lower right\")\n",
    "plt.show()"
   ]
  }
 ],
 "metadata": {
  "kernelspec": {
   "display_name": "Python [conda env:kd]",
   "language": "python",
   "name": "conda-env-kd-py"
  },
  "language_info": {
   "codemirror_mode": {
    "name": "ipython",
    "version": 3
   },
   "file_extension": ".py",
   "mimetype": "text/x-python",
   "name": "python",
   "nbconvert_exporter": "python",
   "pygments_lexer": "ipython3",
   "version": "3.6.4"
  }
 },
 "nbformat": 4,
 "nbformat_minor": 2
}
