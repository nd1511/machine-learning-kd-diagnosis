{
 "cells": [
  {
   "cell_type": "markdown",
   "metadata": {},
   "source": [
    "# Ensemble Classifiers: Reduced Featureset\n",
    "---\n",
    "Reduced featureset (18 features): ['illday', 'rash', 'redeyes', 'redplt', 'clnode',\n",
    "\t\t'redhands', 'pwbc', 'ppolys', 'pbands', 'plymphs', 'pmonos',\n",
    "\t\t'peos', 'pesr', 'pcrp', 'pplts', 'palt', 'pggt', 'zhemo']"
   ]
  },
  {
   "cell_type": "markdown",
   "metadata": {},
   "source": [
    "### Pre-Training Setup (Load Reduced-Features Data)"
   ]
  },
  {
   "cell_type": "code",
   "execution_count": 1,
   "metadata": {},
   "outputs": [
    {
     "ename": "SyntaxError",
     "evalue": "invalid syntax (models.py, line 54)",
     "output_type": "error",
     "traceback": [
      "Traceback \u001b[0;36m(most recent call last)\u001b[0m:\n",
      "  File \u001b[1;32m\"/Users/lucashu/anaconda/envs/kd/lib/python3.6/site-packages/IPython/core/interactiveshell.py\"\u001b[0m, line \u001b[1;32m2862\u001b[0m, in \u001b[1;35mrun_code\u001b[0m\n    exec(code_obj, self.user_global_ns, self.user_ns)\n",
      "\u001b[0;36m  File \u001b[0;32m\"<ipython-input-1-e6299e3240b0>\"\u001b[0;36m, line \u001b[0;32m11\u001b[0;36m, in \u001b[0;35m<module>\u001b[0;36m\u001b[0m\n\u001b[0;31m    from model_helpers.models import compute_confusion, explain_confusion, get_fc_kd_thresholds,     test_model, plot_cv_roc_curves, ScikitModel\u001b[0m\n",
      "\u001b[0;36m  File \u001b[0;32m\"../model_helpers/models.py\"\u001b[0;36m, line \u001b[0;32m54\u001b[0m\n\u001b[0;31m    print(\"Avg sensitivity: \" + str(stats[0]/(stats[0]+stats[1[]]))) # TN/(TN+FP)\u001b[0m\n\u001b[0m                                                               ^\u001b[0m\n\u001b[0;31mSyntaxError\u001b[0m\u001b[0;31m:\u001b[0m invalid syntax\n"
     ]
    }
   ],
   "source": [
    "import sys\n",
    "sys.path.append('../') # Make parent folder visible\n",
    "import numpy as np\n",
    "from scipy.stats import randint\n",
    "\n",
    "from sklearn import svm, linear_model, neighbors, ensemble, naive_bayes, \\\n",
    "    neural_network, tree, gaussian_process, discriminant_analysis\n",
    "    \n",
    "import matplotlib.pyplot as plt\n",
    "\n",
    "from preprocess import load_data\n",
    "from model_helpers.models import compute_confusion, explain_confusion, get_fc_kd_thresholds, \\\n",
    "    test_model, plot_cv_roc_curves, ScikitModel"
   ]
  },
  {
   "cell_type": "code",
   "execution_count": null,
   "metadata": {},
   "outputs": [],
   "source": [
    "x, y, ids = load_data.load_expanded(one_hot=False, fill_mode='mean', reduced_features=True)"
   ]
  },
  {
   "cell_type": "markdown",
   "metadata": {},
   "source": [
    "### Test out Candidate Learners"
   ]
  },
  {
   "cell_type": "code",
   "execution_count": null,
   "metadata": {},
   "outputs": [],
   "source": [
    "# SVM\n",
    "svm_model = ScikitModel(svm.SVC(probability=True), \n",
    "                       {\n",
    "                           'C': np.logspace(-3, 3, 100),\n",
    "                           'gamma': np.logspace(-3, 3, 100),\n",
    "                           'kernel': ['linear', 'rbf', 'poly']\n",
    "                       },\n",
    "                       random_search=True,\n",
    "                       n_iter=100,\n",
    "                       scoring='roc_auc',\n",
    "                       verbose=True)\n",
    "svm_rocs = test_model(svm_model,\n",
    "                      x, y,\n",
    "                      allow_indeterminates=True)"
   ]
  },
  {
   "cell_type": "code",
   "execution_count": null,
   "metadata": {},
   "outputs": [],
   "source": [
    "# Logistic Regression\n",
    "lr_model = ScikitModel(linear_model.LogisticRegression(), \n",
    "                       params={\n",
    "                           'C': np.logspace(-2, 2, 5)\n",
    "                       },\n",
    "                       random_search=False,\n",
    "                       scoring='roc_auc',\n",
    "                       verbose=True)\n",
    "lr_rocs = test_model(lr_model,\n",
    "                     x, y,\n",
    "                     allow_indeterminates=True)"
   ]
  },
  {
   "cell_type": "code",
   "execution_count": null,
   "metadata": {},
   "outputs": [],
   "source": [
    "plot_cv_roc_curves(lr_rocs)"
   ]
  },
  {
   "cell_type": "code",
   "execution_count": null,
   "metadata": {},
   "outputs": [],
   "source": [
    "# Random Forest\n",
    "rf_model = ScikitModel(ensemble.RandomForestClassifier(), \n",
    "                       params={\n",
    "                           'n_estimators': randint(10, 500),\n",
    "                           'max_features': randint(3, 15),\n",
    "                           'min_samples_split': randint(2, 50),\n",
    "                           'min_samples_leaf': randint(1, 50)\n",
    "                       },\n",
    "                       random_search=True,\n",
    "                       n_iter=250,\n",
    "                       scoring='roc_auc',\n",
    "                       verbose=True)\n",
    "rf_rocs = test_model(rf_model,\n",
    "                     x, y,\n",
    "                     allow_indeterminates=True)"
   ]
  },
  {
   "cell_type": "markdown",
   "metadata": {},
   "source": [
    "## Sklearn Ensemble Model"
   ]
  },
  {
   "cell_type": "code",
   "execution_count": null,
   "metadata": {},
   "outputs": [],
   "source": [
    "# Grid search params\n",
    "clf1 = svm.SVC(probability=True)\n",
    "clf2 = linear_model.LogisticRegression()\n",
    "\n",
    "eclf = ensemble.VotingClassifier(\n",
    "    estimators=[('svm', clf1), ('lr', clf2)],\n",
    "    voting='soft')\n",
    "\n",
    "params = {\n",
    "    'svm__C': np.logspace(-3, 2, 100),\n",
    "    'svm__gamma': np.logspace(-3, 2, 100),\n",
    "    'svm__kernel': ['linear', 'rbf', 'poly'],\n",
    "    'lr__C': np.logspace(-3, 2, 100)\n",
    "}\n",
    "\n",
    "# Test model! 5-fold CV with hyperparameter optimization\n",
    "clf = ScikitModel(\n",
    "    eclf,\n",
    "    params,\n",
    "    random_search=True, \n",
    "    n_iter=100, \n",
    "    verbose=True)\n",
    "\n",
    "ensemble_rocs = test_model(clf, x, y, allow_indeterminates=True)"
   ]
  },
  {
   "cell_type": "code",
   "execution_count": null,
   "metadata": {},
   "outputs": [],
   "source": [
    "plot_cv_roc_curves(ensemble_rocs)"
   ]
  }
 ],
 "metadata": {
  "kernelspec": {
   "display_name": "Python [conda env:kd]",
   "language": "python",
   "name": "conda-env-kd-py"
  },
  "language_info": {
   "codemirror_mode": {
    "name": "ipython",
    "version": 3
   },
   "file_extension": ".py",
   "mimetype": "text/x-python",
   "name": "python",
   "nbconvert_exporter": "python",
   "pygments_lexer": "ipython3",
   "version": "3.6.4"
  }
 },
 "nbformat": 4,
 "nbformat_minor": 2
}
