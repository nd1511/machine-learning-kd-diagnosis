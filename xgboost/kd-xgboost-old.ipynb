{
 "cells": [
  {
   "cell_type": "markdown",
   "metadata": {},
   "source": [
    "# KD Diagnosis: XGBoost Take 1\n",
    "---\n",
    "[XGBoost Documentation](http://xgboost.readthedocs.io/en/latest/python/python_api.html#)\n",
    "1. Load in KD data\n",
    "2. Set XGB hyperparameters\n",
    "3. Train XGB model\n",
    "4. Show feature importance\n",
    "5. Plot XGB tree\n",
    "6. **TODO:** hyperparameter optimization (see: skopt)"
   ]
  },
  {
   "cell_type": "code",
   "execution_count": 5,
   "metadata": {
    "collapsed": true
   },
   "outputs": [],
   "source": [
    "# Imports\n",
    "import sys\n",
    "sys.path.append('../') # Make parent folder visible\n",
    "from preprocess import load_data\n",
    "from sklearn import preprocessing\n",
    "import xgboost as xgb\n",
    "import matplotlib.pyplot as plt\n",
    "import pickle as pkl\n",
    "\n",
    "# Load data\n",
    "x_train, x_test, y_train, y_test = load_data.load(one_hot=False)"
   ]
  },
  {
   "cell_type": "code",
   "execution_count": 6,
   "metadata": {
    "collapsed": true
   },
   "outputs": [],
   "source": [
    "# Preprocessing - XGBoost should be invariant to this\n",
    "# scaler = preprocessing.StandardScaler().fit(x_train)\n",
    "# x_train = scaler.transform(x_train)\n",
    "# x_test = scaler.transform(x_test)"
   ]
  },
  {
   "cell_type": "code",
   "execution_count": 7,
   "metadata": {
    "collapsed": true
   },
   "outputs": [],
   "source": [
    "# Get feature names\n",
    "f = open('../data/kd_dataset.pkl','rb')\n",
    "x_train, x_test, y_train, y_test = pkl.load(f)\n",
    "feature_names = list(x_train)"
   ]
  },
  {
   "cell_type": "code",
   "execution_count": 8,
   "metadata": {},
   "outputs": [],
   "source": [
    "# Create Data Matrices\n",
    "dtrain = xgb.DMatrix(x_train, label=y_train, feature_names=feature_names)\n",
    "dtest = xgb.DMatrix(x_test, label=y_test, feature_names=feature_names)"
   ]
  },
  {
   "cell_type": "code",
   "execution_count": 19,
   "metadata": {},
   "outputs": [],
   "source": [
    "# Set Hyperparameters\n",
    "    # Docs: https://xgboost.readthedocs.io/en/latest/parameter.html\n",
    "param = {\n",
    "    'max_depth': 5, \n",
    "    'eta': 0.3, \n",
    "    'objective': 'binary:logistic', \n",
    "    'eval_metric': 'auc'\n",
    "}\n",
    "\n",
    "evallist = [(dtest, 'eval'), (dtrain, 'train')]\n",
    "num_round = 20"
   ]
  },
  {
   "cell_type": "code",
   "execution_count": 21,
   "metadata": {},
   "outputs": [
    {
     "name": "stdout",
     "output_type": "stream",
     "text": [
      "[0]\teval-auc:0.880844\ttrain-auc:0.982093\n",
      "[1]\teval-auc:0.901858\ttrain-auc:0.991824\n",
      "[2]\teval-auc:0.922655\ttrain-auc:0.993566\n",
      "[3]\teval-auc:0.926829\ttrain-auc:0.995526\n",
      "[4]\teval-auc:0.93427\ttrain-auc:0.997557\n",
      "[5]\teval-auc:0.938335\ttrain-auc:0.998658\n",
      "[6]\teval-auc:0.937754\ttrain-auc:0.998729\n",
      "[7]\teval-auc:0.944469\ttrain-auc:0.999211\n",
      "[8]\teval-auc:0.94367\ttrain-auc:0.999506\n",
      "[9]\teval-auc:0.943706\ttrain-auc:0.999588\n",
      "[10]\teval-auc:0.944287\ttrain-auc:0.999717\n",
      "[11]\teval-auc:0.948425\ttrain-auc:0.999882\n",
      "[12]\teval-auc:0.949296\ttrain-auc:0.999965\n",
      "[13]\teval-auc:0.953252\ttrain-auc:0.999976\n",
      "[14]\teval-auc:0.954123\ttrain-auc:0.999988\n",
      "[15]\teval-auc:0.955067\ttrain-auc:1\n",
      "[16]\teval-auc:0.95572\ttrain-auc:1\n",
      "[17]\teval-auc:0.956083\ttrain-auc:1\n",
      "[18]\teval-auc:0.95797\ttrain-auc:1\n",
      "[19]\teval-auc:0.957317\ttrain-auc:1\n"
     ]
    }
   ],
   "source": [
    "# Train model\n",
    "bst = xgb.train(param, dtrain, num_boost_round=num_round, evals=evallist)"
   ]
  },
  {
   "cell_type": "code",
   "execution_count": 12,
   "metadata": {},
   "outputs": [
    {
     "data": {
      "image/png": "[encoded data removed]",
      "text/plain": [
       "<matplotlib.figure.Figure at 0x1170177b8>"
      ]
     },
     "metadata": {},
     "output_type": "display_data"
    }
   ],
   "source": [
    "# Plot feature importances\n",
    "xgb.plot_importance(bst)\n",
    "plt.show()"
   ]
  },
  {
   "cell_type": "code",
   "execution_count": 22,
   "metadata": {},
   "outputs": [],
   "source": [
    "# Draw tree diagram\n",
    "TREE_NUM = 0\n",
    "xgb.plot_tree(bst, num_trees=TREE_NUM)\n",
    "fig = plt.gcf()\n",
    "fig.set_size_inches(150, 100)\n",
    "plt.savefig('xgb-sample-tree.pdf')"
   ]
  },
  {
   "cell_type": "code",
   "execution_count": null,
   "metadata": {
    "collapsed": true
   },
   "outputs": [],
   "source": []
  }
 ],
 "metadata": {
  "kernelspec": {
   "display_name": "Python 3",
   "language": "python",
   "name": "python3"
  },
  "language_info": {
   "codemirror_mode": {
    "name": "ipython",
    "version": 3
   },
   "file_extension": ".py",
   "mimetype": "text/x-python",
   "name": "python",
   "nbconvert_exporter": "python",
   "pygments_lexer": "ipython3",
   "version": "3.5.4"
  }
 },
 "nbformat": 4,
 "nbformat_minor": 2
}
