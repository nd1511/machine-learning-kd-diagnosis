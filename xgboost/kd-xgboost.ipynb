{
 "cells": [
  {
   "cell_type": "markdown",
   "metadata": {},
   "source": [
    "# KD Diagnosis: XGBoost Take 1"
   ]
  },
  {
   "cell_type": "code",
   "execution_count": 24,
   "metadata": {},
   "outputs": [],
   "source": [
    "# Imports\n",
    "import sys\n",
    "sys.path.append('../') # Make parent folder visible\n",
    "from preprocessing import load_data\n",
    "from sklearn import preprocessing\n",
    "import xgboost as xgb\n",
    "\n",
    "# Load data\n",
    "x_train, x_test, y_train, y_test = load_data.load(one_hot=False)"
   ]
  },
  {
   "cell_type": "code",
   "execution_count": 25,
   "metadata": {},
   "outputs": [],
   "source": [
    "# Preprocessing\n",
    "# scaler = preprocessing.StandardScaler().fit(x_train)\n",
    "# x_train = scaler.transform(x_train)\n",
    "# x_test = scaler.transform(x_test)"
   ]
  },
  {
   "cell_type": "code",
   "execution_count": 26,
   "metadata": {},
   "outputs": [],
   "source": [
    "# Create Data Matrices\n",
    "dtrain = xgb.DMatrix(x_train, label=y_train)\n",
    "dtest = xgb.DMatrix(x_test, label=y_test)"
   ]
  },
  {
   "cell_type": "code",
   "execution_count": 27,
   "metadata": {},
   "outputs": [],
   "source": [
    "# Set Hyperparameters\n",
    "    # Docs: https://xgboost.readthedocs.io/en/latest/parameter.html\n",
    "param = {\n",
    "    'max_depth': 5, \n",
    "    'eta': 0.3, \n",
    "    'objective': 'binary:logistic', \n",
    "    'eval_metric': 'error'\n",
    "}\n",
    "\n",
    "evallist = [(dtest, 'eval'), (dtrain, 'train')]\n",
    "num_round = 25"
   ]
  },
  {
   "cell_type": "code",
   "execution_count": 28,
   "metadata": {},
   "outputs": [
    {
     "name": "stdout",
     "output_type": "stream",
     "text": [
      "[0]\teval-error:0.115894\ttrain-error:0.048364\n",
      "[1]\teval-error:0.109272\ttrain-error:0.038407\n",
      "[2]\teval-error:0.10596\ttrain-error:0.029872\n",
      "[3]\teval-error:0.096026\ttrain-error:0.027027\n",
      "[4]\teval-error:0.07947\ttrain-error:0.019915\n",
      "[5]\teval-error:0.086093\ttrain-error:0.019915\n",
      "[6]\teval-error:0.086093\ttrain-error:0.01707\n",
      "[7]\teval-error:0.086093\ttrain-error:0.012802\n",
      "[8]\teval-error:0.086093\ttrain-error:0.01138\n",
      "[9]\teval-error:0.082781\ttrain-error:0.01138\n",
      "[10]\teval-error:0.076159\ttrain-error:0.00569\n",
      "[11]\teval-error:0.086093\ttrain-error:0.00569\n",
      "[12]\teval-error:0.086093\ttrain-error:0.004267\n",
      "[13]\teval-error:0.076159\ttrain-error:0.002845\n",
      "[14]\teval-error:0.07947\ttrain-error:0.002845\n",
      "[15]\teval-error:0.07947\ttrain-error:0.001422\n",
      "[16]\teval-error:0.07947\ttrain-error:0.001422\n",
      "[17]\teval-error:0.07947\ttrain-error:0.001422\n",
      "[18]\teval-error:0.082781\ttrain-error:0\n",
      "[19]\teval-error:0.082781\ttrain-error:0\n",
      "[20]\teval-error:0.07947\ttrain-error:0\n",
      "[21]\teval-error:0.082781\ttrain-error:0\n",
      "[22]\teval-error:0.07947\ttrain-error:0\n",
      "[23]\teval-error:0.07947\ttrain-error:0\n",
      "[24]\teval-error:0.07947\ttrain-error:0\n"
     ]
    }
   ],
   "source": [
    "# Train model\n",
    "bst = xgb.train(param, dtrain, num_round, evallist)"
   ]
  },
  {
   "cell_type": "code",
   "execution_count": null,
   "metadata": {},
   "outputs": [],
   "source": []
  },
  {
   "cell_type": "code",
   "execution_count": null,
   "metadata": {},
   "outputs": [],
   "source": []
  }
 ],
 "metadata": {
  "kernelspec": {
   "display_name": "Python 3",
   "language": "python",
   "name": "python3"
  },
  "language_info": {
   "codemirror_mode": {
    "name": "ipython",
    "version": 3
   },
   "file_extension": ".py",
   "mimetype": "text/x-python",
   "name": "python",
   "nbconvert_exporter": "python",
   "pygments_lexer": "ipython3",
   "version": "3.5.4"
  }
 },
 "nbformat": 4,
 "nbformat_minor": 2
}
